{
  "cells": [
    {
      "cell_type": "markdown",
      "metadata": {
        "id": "view-in-github",
        "colab_type": "text"
      },
      "source": [
        "<a href=\"https://colab.research.google.com/github/sarfrazDTT/cloab/blob/main/PD_NCBA_2021_Loans.ipynb\" target=\"_parent\"><img src=\"https://colab.research.google.com/assets/colab-badge.svg\" alt=\"Open In Colab\"/></a>"
      ]
    },
    {
      "cell_type": "code",
      "execution_count": 20,
      "metadata": {
        "colab": {
          "base_uri": "https://localhost:8080/"
        },
        "id": "lIYdn1woOS1n",
        "outputId": "34e42ac7-7ec4-41c3-e87a-81b64c38d451"
      },
      "outputs": [
        {
          "output_type": "stream",
          "name": "stderr",
          "text": [
            "/usr/local/lib/python3.7/dist-packages/IPython/core/interactiveshell.py:3326: DtypeWarning: Columns (1,5,8) have mixed types.Specify dtype option on import or set low_memory=False.\n",
            "  exec(code_obj, self.user_global_ns, self.user_ns)\n"
          ]
        }
      ],
      "source": [
        "import pandas as pd\n",
        "import matplotlib.pyplot as plt\n",
        "import numpy as np\n",
        "\n",
        "# path = \"Loans_Data_PD.xlsx\"\n",
        "# df = pd.read_csv(path, engine=\"python\", encoding=\"utf-8\", encoding_errors=\"ignore\", header=0)\n",
        "\n",
        "df = pd.read_csv(\"Loans_Data_PD.csv\")"
      ]
    },
    {
      "cell_type": "markdown",
      "source": [
        "# Estructura de la data"
      ],
      "metadata": {
        "id": "W2X8rzUBdMaS"
      }
    },
    {
      "cell_type": "code",
      "source": [
        "df.shape"
      ],
      "metadata": {
        "id": "y2MQr0QXdYhH",
        "outputId": "99ea4ffb-e0e1-4dc1-d465-816755232d00",
        "colab": {
          "base_uri": "https://localhost:8080/"
        }
      },
      "execution_count": 22,
      "outputs": [
        {
          "output_type": "execute_result",
          "data": {
            "text/plain": [
              "(78323, 42)"
            ]
          },
          "metadata": {},
          "execution_count": 22
        }
      ]
    },
    {
      "cell_type": "code",
      "source": [
        "df.head()"
      ],
      "metadata": {
        "id": "DP0bMkF-cab-",
        "outputId": "751f1024-8307-470d-809b-504ef4a252d3",
        "colab": {
          "base_uri": "https://localhost:8080/",
          "height": 490
        }
      },
      "execution_count": 146,
      "outputs": [
        {
          "output_type": "execute_result",
          "data": {
            "text/plain": [
              "    Data date CMF_CUSTOMER_TYPE  CMF_CTRY_RESID      CCL_CTRYNM  \\\n",
              "0  11/30/2016               1.0          9872.0  ANGUILLA         \n",
              "1  12/31/2016               1.0          9872.0  ANGUILLA         \n",
              "2   1/31/2017               1.0          9872.0  ANGUILLA         \n",
              "3   2/28/2017               1.0          9872.0  ANGUILLA         \n",
              "4   3/31/2017               1.0          9872.0  ANGUILLA         \n",
              "\n",
              "   CMF_NATIONALITY DD_REPCLS1              DESCRIPTION  LN_OFFICER LN_LOCCLAS  \\\n",
              "0             9872       27.0  HOUSE AND LAND PURCHASE     11174.0        6.0   \n",
              "1             9872       27.0  HOUSE AND LAND PURCHASE     11174.0        6.0   \n",
              "2             9872       27.0  HOUSE AND LAND PURCHASE     11174.0        6.0   \n",
              "3             9872       27.0  HOUSE AND LAND PURCHASE     11174.0        6.0   \n",
              "4             9872       27.0  HOUSE AND LAND PURCHASE     11174.0        6.0   \n",
              "\n",
              "   LN_TRANSIT  ... LN_COLLATR                                LN_PRPDESC  \\\n",
              "0         1.0  ...         CA  TO PURCHASE LAND                           \n",
              "1         1.0  ...         CA  TO PURCHASE LAND                           \n",
              "2         1.0  ...         CA  TO PURCHASE LAND                           \n",
              "3         1.0  ...         CA  TO PURCHASE LAND                           \n",
              "4         1.0  ...         CA  TO PURCHASE LAND                           \n",
              "\n",
              "   DD_TPLTCHG                     Mapp   Stage   Default indicator   \\\n",
              "0           0  HOUSE AND LAND PURCHASE  Stage 1                   0   \n",
              "1           0  HOUSE AND LAND PURCHASE  Stage 1                   0   \n",
              "2           0  HOUSE AND LAND PURCHASE  Stage 1                   0   \n",
              "3           0  HOUSE AND LAND PURCHASE  Stage 1                   0   \n",
              "4           0  HOUSE AND LAND PURCHASE  Stage 1                   0   \n",
              "\n",
              "   Default counter  12m defaults  Cure indicator  12m cures  \n",
              "0                 0            0               0          0  \n",
              "1                 0            0               0          0  \n",
              "2                 0            0               0          0  \n",
              "3                 0            0               0          0  \n",
              "4                 0            0               0          0  \n",
              "\n",
              "[5 rows x 42 columns]"
            ],
            "text/html": [
              "\n",
              "  <div id=\"df-d5049ff2-66e8-4646-948f-6d82d47753cf\">\n",
              "    <div class=\"colab-df-container\">\n",
              "      <div>\n",
              "<style scoped>\n",
              "    .dataframe tbody tr th:only-of-type {\n",
              "        vertical-align: middle;\n",
              "    }\n",
              "\n",
              "    .dataframe tbody tr th {\n",
              "        vertical-align: top;\n",
              "    }\n",
              "\n",
              "    .dataframe thead th {\n",
              "        text-align: right;\n",
              "    }\n",
              "</style>\n",
              "<table border=\"1\" class=\"dataframe\">\n",
              "  <thead>\n",
              "    <tr style=\"text-align: right;\">\n",
              "      <th></th>\n",
              "      <th>Data date</th>\n",
              "      <th>CMF_CUSTOMER_TYPE</th>\n",
              "      <th>CMF_CTRY_RESID</th>\n",
              "      <th>CCL_CTRYNM</th>\n",
              "      <th>CMF_NATIONALITY</th>\n",
              "      <th>DD_REPCLS1</th>\n",
              "      <th>DESCRIPTION</th>\n",
              "      <th>LN_OFFICER</th>\n",
              "      <th>LN_LOCCLAS</th>\n",
              "      <th>LN_TRANSIT</th>\n",
              "      <th>...</th>\n",
              "      <th>LN_COLLATR</th>\n",
              "      <th>LN_PRPDESC</th>\n",
              "      <th>DD_TPLTCHG</th>\n",
              "      <th>Mapp</th>\n",
              "      <th>Stage</th>\n",
              "      <th>Default indicator</th>\n",
              "      <th>Default counter</th>\n",
              "      <th>12m defaults</th>\n",
              "      <th>Cure indicator</th>\n",
              "      <th>12m cures</th>\n",
              "    </tr>\n",
              "  </thead>\n",
              "  <tbody>\n",
              "    <tr>\n",
              "      <th>0</th>\n",
              "      <td>11/30/2016</td>\n",
              "      <td>1.0</td>\n",
              "      <td>9872.0</td>\n",
              "      <td>ANGUILLA</td>\n",
              "      <td>9872</td>\n",
              "      <td>27.0</td>\n",
              "      <td>HOUSE AND LAND PURCHASE</td>\n",
              "      <td>11174.0</td>\n",
              "      <td>6.0</td>\n",
              "      <td>1.0</td>\n",
              "      <td>...</td>\n",
              "      <td>CA</td>\n",
              "      <td>TO PURCHASE LAND</td>\n",
              "      <td>0</td>\n",
              "      <td>HOUSE AND LAND PURCHASE</td>\n",
              "      <td>Stage 1</td>\n",
              "      <td>0</td>\n",
              "      <td>0</td>\n",
              "      <td>0</td>\n",
              "      <td>0</td>\n",
              "      <td>0</td>\n",
              "    </tr>\n",
              "    <tr>\n",
              "      <th>1</th>\n",
              "      <td>12/31/2016</td>\n",
              "      <td>1.0</td>\n",
              "      <td>9872.0</td>\n",
              "      <td>ANGUILLA</td>\n",
              "      <td>9872</td>\n",
              "      <td>27.0</td>\n",
              "      <td>HOUSE AND LAND PURCHASE</td>\n",
              "      <td>11174.0</td>\n",
              "      <td>6.0</td>\n",
              "      <td>1.0</td>\n",
              "      <td>...</td>\n",
              "      <td>CA</td>\n",
              "      <td>TO PURCHASE LAND</td>\n",
              "      <td>0</td>\n",
              "      <td>HOUSE AND LAND PURCHASE</td>\n",
              "      <td>Stage 1</td>\n",
              "      <td>0</td>\n",
              "      <td>0</td>\n",
              "      <td>0</td>\n",
              "      <td>0</td>\n",
              "      <td>0</td>\n",
              "    </tr>\n",
              "    <tr>\n",
              "      <th>2</th>\n",
              "      <td>1/31/2017</td>\n",
              "      <td>1.0</td>\n",
              "      <td>9872.0</td>\n",
              "      <td>ANGUILLA</td>\n",
              "      <td>9872</td>\n",
              "      <td>27.0</td>\n",
              "      <td>HOUSE AND LAND PURCHASE</td>\n",
              "      <td>11174.0</td>\n",
              "      <td>6.0</td>\n",
              "      <td>1.0</td>\n",
              "      <td>...</td>\n",
              "      <td>CA</td>\n",
              "      <td>TO PURCHASE LAND</td>\n",
              "      <td>0</td>\n",
              "      <td>HOUSE AND LAND PURCHASE</td>\n",
              "      <td>Stage 1</td>\n",
              "      <td>0</td>\n",
              "      <td>0</td>\n",
              "      <td>0</td>\n",
              "      <td>0</td>\n",
              "      <td>0</td>\n",
              "    </tr>\n",
              "    <tr>\n",
              "      <th>3</th>\n",
              "      <td>2/28/2017</td>\n",
              "      <td>1.0</td>\n",
              "      <td>9872.0</td>\n",
              "      <td>ANGUILLA</td>\n",
              "      <td>9872</td>\n",
              "      <td>27.0</td>\n",
              "      <td>HOUSE AND LAND PURCHASE</td>\n",
              "      <td>11174.0</td>\n",
              "      <td>6.0</td>\n",
              "      <td>1.0</td>\n",
              "      <td>...</td>\n",
              "      <td>CA</td>\n",
              "      <td>TO PURCHASE LAND</td>\n",
              "      <td>0</td>\n",
              "      <td>HOUSE AND LAND PURCHASE</td>\n",
              "      <td>Stage 1</td>\n",
              "      <td>0</td>\n",
              "      <td>0</td>\n",
              "      <td>0</td>\n",
              "      <td>0</td>\n",
              "      <td>0</td>\n",
              "    </tr>\n",
              "    <tr>\n",
              "      <th>4</th>\n",
              "      <td>3/31/2017</td>\n",
              "      <td>1.0</td>\n",
              "      <td>9872.0</td>\n",
              "      <td>ANGUILLA</td>\n",
              "      <td>9872</td>\n",
              "      <td>27.0</td>\n",
              "      <td>HOUSE AND LAND PURCHASE</td>\n",
              "      <td>11174.0</td>\n",
              "      <td>6.0</td>\n",
              "      <td>1.0</td>\n",
              "      <td>...</td>\n",
              "      <td>CA</td>\n",
              "      <td>TO PURCHASE LAND</td>\n",
              "      <td>0</td>\n",
              "      <td>HOUSE AND LAND PURCHASE</td>\n",
              "      <td>Stage 1</td>\n",
              "      <td>0</td>\n",
              "      <td>0</td>\n",
              "      <td>0</td>\n",
              "      <td>0</td>\n",
              "      <td>0</td>\n",
              "    </tr>\n",
              "  </tbody>\n",
              "</table>\n",
              "<p>5 rows × 42 columns</p>\n",
              "</div>\n",
              "      <button class=\"colab-df-convert\" onclick=\"convertToInteractive('df-d5049ff2-66e8-4646-948f-6d82d47753cf')\"\n",
              "              title=\"Convert this dataframe to an interactive table.\"\n",
              "              style=\"display:none;\">\n",
              "        \n",
              "  <svg xmlns=\"http://www.w3.org/2000/svg\" height=\"24px\"viewBox=\"0 0 24 24\"\n",
              "       width=\"24px\">\n",
              "    <path d=\"M0 0h24v24H0V0z\" fill=\"none\"/>\n",
              "    <path d=\"M18.56 5.44l.94 2.06.94-2.06 2.06-.94-2.06-.94-.94-2.06-.94 2.06-2.06.94zm-11 1L8.5 8.5l.94-2.06 2.06-.94-2.06-.94L8.5 2.5l-.94 2.06-2.06.94zm10 10l.94 2.06.94-2.06 2.06-.94-2.06-.94-.94-2.06-.94 2.06-2.06.94z\"/><path d=\"M17.41 7.96l-1.37-1.37c-.4-.4-.92-.59-1.43-.59-.52 0-1.04.2-1.43.59L10.3 9.45l-7.72 7.72c-.78.78-.78 2.05 0 2.83L4 21.41c.39.39.9.59 1.41.59.51 0 1.02-.2 1.41-.59l7.78-7.78 2.81-2.81c.8-.78.8-2.07 0-2.86zM5.41 20L4 18.59l7.72-7.72 1.47 1.35L5.41 20z\"/>\n",
              "  </svg>\n",
              "      </button>\n",
              "      \n",
              "  <style>\n",
              "    .colab-df-container {\n",
              "      display:flex;\n",
              "      flex-wrap:wrap;\n",
              "      gap: 12px;\n",
              "    }\n",
              "\n",
              "    .colab-df-convert {\n",
              "      background-color: #E8F0FE;\n",
              "      border: none;\n",
              "      border-radius: 50%;\n",
              "      cursor: pointer;\n",
              "      display: none;\n",
              "      fill: #1967D2;\n",
              "      height: 32px;\n",
              "      padding: 0 0 0 0;\n",
              "      width: 32px;\n",
              "    }\n",
              "\n",
              "    .colab-df-convert:hover {\n",
              "      background-color: #E2EBFA;\n",
              "      box-shadow: 0px 1px 2px rgba(60, 64, 67, 0.3), 0px 1px 3px 1px rgba(60, 64, 67, 0.15);\n",
              "      fill: #174EA6;\n",
              "    }\n",
              "\n",
              "    [theme=dark] .colab-df-convert {\n",
              "      background-color: #3B4455;\n",
              "      fill: #D2E3FC;\n",
              "    }\n",
              "\n",
              "    [theme=dark] .colab-df-convert:hover {\n",
              "      background-color: #434B5C;\n",
              "      box-shadow: 0px 1px 3px 1px rgba(0, 0, 0, 0.15);\n",
              "      filter: drop-shadow(0px 1px 2px rgba(0, 0, 0, 0.3));\n",
              "      fill: #FFFFFF;\n",
              "    }\n",
              "  </style>\n",
              "\n",
              "      <script>\n",
              "        const buttonEl =\n",
              "          document.querySelector('#df-d5049ff2-66e8-4646-948f-6d82d47753cf button.colab-df-convert');\n",
              "        buttonEl.style.display =\n",
              "          google.colab.kernel.accessAllowed ? 'block' : 'none';\n",
              "\n",
              "        async function convertToInteractive(key) {\n",
              "          const element = document.querySelector('#df-d5049ff2-66e8-4646-948f-6d82d47753cf');\n",
              "          const dataTable =\n",
              "            await google.colab.kernel.invokeFunction('convertToInteractive',\n",
              "                                                     [key], {});\n",
              "          if (!dataTable) return;\n",
              "\n",
              "          const docLinkHtml = 'Like what you see? Visit the ' +\n",
              "            '<a target=\"_blank\" href=https://colab.research.google.com/notebooks/data_table.ipynb>data table notebook</a>'\n",
              "            + ' to learn more about interactive tables.';\n",
              "          element.innerHTML = '';\n",
              "          dataTable['output_type'] = 'display_data';\n",
              "          await google.colab.output.renderOutput(dataTable, element);\n",
              "          const docLink = document.createElement('div');\n",
              "          docLink.innerHTML = docLinkHtml;\n",
              "          element.appendChild(docLink);\n",
              "        }\n",
              "      </script>\n",
              "    </div>\n",
              "  </div>\n",
              "  "
            ]
          },
          "metadata": {},
          "execution_count": 146
        }
      ]
    },
    {
      "cell_type": "code",
      "source": [
        "df.dtypes"
      ],
      "metadata": {
        "id": "b4OuPZfQkrcp",
        "outputId": "c2d349b4-115f-4af5-9cf9-1f3611f4519a",
        "colab": {
          "base_uri": "https://localhost:8080/"
        }
      },
      "execution_count": 25,
      "outputs": [
        {
          "output_type": "execute_result",
          "data": {
            "text/plain": [
              "Data date               object\n",
              "CMF_CUSTOMER_TYPE       object\n",
              "CMF_CTRY_RESID         float64\n",
              "CCL_CTRYNM              object\n",
              "CMF_NATIONALITY          int64\n",
              "DD_REPCLS1              object\n",
              "DESCRIPTION             object\n",
              "LN_OFFICER             float64\n",
              "LN_LOCCLAS              object\n",
              "LN_TRANSIT             float64\n",
              "LN_CURR                 object\n",
              "LN_ACCOUNT             float64\n",
              "LN_CNTRCT                int64\n",
              "LN_CMFSHNM              object\n",
              "CFX_RTTDBS             float64\n",
              "DDE_REFINANCED          object\n",
              "DD_GLSUBTY              object\n",
              "LN_FACILTY              object\n",
              "LN_STATUS              float64\n",
              "DD_EFFRATE             float64\n",
              "DD_PAYAMT               object\n",
              "LN_CURBAL               object\n",
              "BASE DD_PBAL2DB         object\n",
              "DD_INTACTM              object\n",
              "LN_AMOUNT               object\n",
              "LN_LIMIT                object\n",
              "DQM_LATFEE              object\n",
              "DQM_TOTDQ               object\n",
              "DQM_DATE                object\n",
              "DQM_DQDAYS              object\n",
              "LN_DATEOPN              object\n",
              "LN_MATDATE              object\n",
              "LN_COLLATR              object\n",
              "LN_PRPDESC              object\n",
              "DD_TPLTCHG              object\n",
              " Mapping                object\n",
              " Stage                  object\n",
              " Default indicator       int64\n",
              " Default counter         int64\n",
              "12m defaults             int64\n",
              "Cure indicator           int64\n",
              "12m cures                int64\n",
              "dtype: object"
            ]
          },
          "metadata": {},
          "execution_count": 25
        }
      ]
    },
    {
      "cell_type": "code",
      "source": [
        "df.rename(columns={' Mapping ':'Mapp'}, inplace=True)"
      ],
      "metadata": {
        "id": "Yy5aTyKilVKx"
      },
      "execution_count": 26,
      "outputs": []
    },
    {
      "cell_type": "code",
      "source": [
        "df.columns"
      ],
      "metadata": {
        "id": "BqLDfpfBgVKV",
        "outputId": "15bbd81d-717e-42fb-dd26-9cf0824705f7",
        "colab": {
          "base_uri": "https://localhost:8080/"
        }
      },
      "execution_count": 27,
      "outputs": [
        {
          "output_type": "execute_result",
          "data": {
            "text/plain": [
              "Index(['Data date', 'CMF_CUSTOMER_TYPE', 'CMF_CTRY_RESID', 'CCL_CTRYNM',\n",
              "       'CMF_NATIONALITY', 'DD_REPCLS1', 'DESCRIPTION', 'LN_OFFICER',\n",
              "       'LN_LOCCLAS', 'LN_TRANSIT', 'LN_CURR', 'LN_ACCOUNT', 'LN_CNTRCT',\n",
              "       'LN_CMFSHNM', 'CFX_RTTDBS', 'DDE_REFINANCED', 'DD_GLSUBTY',\n",
              "       'LN_FACILTY', 'LN_STATUS', 'DD_EFFRATE', 'DD_PAYAMT', 'LN_CURBAL',\n",
              "       'BASE DD_PBAL2DB', 'DD_INTACTM', 'LN_AMOUNT', 'LN_LIMIT', 'DQM_LATFEE',\n",
              "       'DQM_TOTDQ', 'DQM_DATE', 'DQM_DQDAYS', 'LN_DATEOPN', 'LN_MATDATE',\n",
              "       'LN_COLLATR', 'LN_PRPDESC', 'DD_TPLTCHG', 'Mapp', ' Stage ',\n",
              "       ' Default indicator ', ' Default counter ', '12m defaults',\n",
              "       'Cure indicator', '12m cures'],\n",
              "      dtype='object')"
            ]
          },
          "metadata": {},
          "execution_count": 27
        }
      ]
    },
    {
      "cell_type": "markdown",
      "source": [
        "# Select Data to work with"
      ],
      "metadata": {
        "id": "x2IGAR_IlD2x"
      }
    },
    {
      "cell_type": "code",
      "source": [
        "df_data = df[[\"Data date\", \"LN_CNTRCT\",\"Mapp\", 'DQM_DQDAYS']]\n",
        "df_data.head()"
      ],
      "metadata": {
        "id": "Ng-RyLQTlHws",
        "outputId": "d52fc4de-aa9a-4039-a24a-3c04009b0ca0",
        "colab": {
          "base_uri": "https://localhost:8080/",
          "height": 206
        }
      },
      "execution_count": 147,
      "outputs": [
        {
          "output_type": "execute_result",
          "data": {
            "text/plain": [
              "    Data date  LN_CNTRCT                     Mapp DQM_DQDAYS\n",
              "0  11/30/2016    3300000  HOUSE AND LAND PURCHASE        NaN\n",
              "1  12/31/2016    3300000  HOUSE AND LAND PURCHASE        NaN\n",
              "2   1/31/2017    3300000  HOUSE AND LAND PURCHASE        NaN\n",
              "3   2/28/2017    3300000  HOUSE AND LAND PURCHASE        NaN\n",
              "4   3/31/2017    3300000  HOUSE AND LAND PURCHASE        NaN"
            ],
            "text/html": [
              "\n",
              "  <div id=\"df-fb420de3-b2c1-4883-b0eb-9bd6a153742c\">\n",
              "    <div class=\"colab-df-container\">\n",
              "      <div>\n",
              "<style scoped>\n",
              "    .dataframe tbody tr th:only-of-type {\n",
              "        vertical-align: middle;\n",
              "    }\n",
              "\n",
              "    .dataframe tbody tr th {\n",
              "        vertical-align: top;\n",
              "    }\n",
              "\n",
              "    .dataframe thead th {\n",
              "        text-align: right;\n",
              "    }\n",
              "</style>\n",
              "<table border=\"1\" class=\"dataframe\">\n",
              "  <thead>\n",
              "    <tr style=\"text-align: right;\">\n",
              "      <th></th>\n",
              "      <th>Data date</th>\n",
              "      <th>LN_CNTRCT</th>\n",
              "      <th>Mapp</th>\n",
              "      <th>DQM_DQDAYS</th>\n",
              "    </tr>\n",
              "  </thead>\n",
              "  <tbody>\n",
              "    <tr>\n",
              "      <th>0</th>\n",
              "      <td>11/30/2016</td>\n",
              "      <td>3300000</td>\n",
              "      <td>HOUSE AND LAND PURCHASE</td>\n",
              "      <td>NaN</td>\n",
              "    </tr>\n",
              "    <tr>\n",
              "      <th>1</th>\n",
              "      <td>12/31/2016</td>\n",
              "      <td>3300000</td>\n",
              "      <td>HOUSE AND LAND PURCHASE</td>\n",
              "      <td>NaN</td>\n",
              "    </tr>\n",
              "    <tr>\n",
              "      <th>2</th>\n",
              "      <td>1/31/2017</td>\n",
              "      <td>3300000</td>\n",
              "      <td>HOUSE AND LAND PURCHASE</td>\n",
              "      <td>NaN</td>\n",
              "    </tr>\n",
              "    <tr>\n",
              "      <th>3</th>\n",
              "      <td>2/28/2017</td>\n",
              "      <td>3300000</td>\n",
              "      <td>HOUSE AND LAND PURCHASE</td>\n",
              "      <td>NaN</td>\n",
              "    </tr>\n",
              "    <tr>\n",
              "      <th>4</th>\n",
              "      <td>3/31/2017</td>\n",
              "      <td>3300000</td>\n",
              "      <td>HOUSE AND LAND PURCHASE</td>\n",
              "      <td>NaN</td>\n",
              "    </tr>\n",
              "  </tbody>\n",
              "</table>\n",
              "</div>\n",
              "      <button class=\"colab-df-convert\" onclick=\"convertToInteractive('df-fb420de3-b2c1-4883-b0eb-9bd6a153742c')\"\n",
              "              title=\"Convert this dataframe to an interactive table.\"\n",
              "              style=\"display:none;\">\n",
              "        \n",
              "  <svg xmlns=\"http://www.w3.org/2000/svg\" height=\"24px\"viewBox=\"0 0 24 24\"\n",
              "       width=\"24px\">\n",
              "    <path d=\"M0 0h24v24H0V0z\" fill=\"none\"/>\n",
              "    <path d=\"M18.56 5.44l.94 2.06.94-2.06 2.06-.94-2.06-.94-.94-2.06-.94 2.06-2.06.94zm-11 1L8.5 8.5l.94-2.06 2.06-.94-2.06-.94L8.5 2.5l-.94 2.06-2.06.94zm10 10l.94 2.06.94-2.06 2.06-.94-2.06-.94-.94-2.06-.94 2.06-2.06.94z\"/><path d=\"M17.41 7.96l-1.37-1.37c-.4-.4-.92-.59-1.43-.59-.52 0-1.04.2-1.43.59L10.3 9.45l-7.72 7.72c-.78.78-.78 2.05 0 2.83L4 21.41c.39.39.9.59 1.41.59.51 0 1.02-.2 1.41-.59l7.78-7.78 2.81-2.81c.8-.78.8-2.07 0-2.86zM5.41 20L4 18.59l7.72-7.72 1.47 1.35L5.41 20z\"/>\n",
              "  </svg>\n",
              "      </button>\n",
              "      \n",
              "  <style>\n",
              "    .colab-df-container {\n",
              "      display:flex;\n",
              "      flex-wrap:wrap;\n",
              "      gap: 12px;\n",
              "    }\n",
              "\n",
              "    .colab-df-convert {\n",
              "      background-color: #E8F0FE;\n",
              "      border: none;\n",
              "      border-radius: 50%;\n",
              "      cursor: pointer;\n",
              "      display: none;\n",
              "      fill: #1967D2;\n",
              "      height: 32px;\n",
              "      padding: 0 0 0 0;\n",
              "      width: 32px;\n",
              "    }\n",
              "\n",
              "    .colab-df-convert:hover {\n",
              "      background-color: #E2EBFA;\n",
              "      box-shadow: 0px 1px 2px rgba(60, 64, 67, 0.3), 0px 1px 3px 1px rgba(60, 64, 67, 0.15);\n",
              "      fill: #174EA6;\n",
              "    }\n",
              "\n",
              "    [theme=dark] .colab-df-convert {\n",
              "      background-color: #3B4455;\n",
              "      fill: #D2E3FC;\n",
              "    }\n",
              "\n",
              "    [theme=dark] .colab-df-convert:hover {\n",
              "      background-color: #434B5C;\n",
              "      box-shadow: 0px 1px 3px 1px rgba(0, 0, 0, 0.15);\n",
              "      filter: drop-shadow(0px 1px 2px rgba(0, 0, 0, 0.3));\n",
              "      fill: #FFFFFF;\n",
              "    }\n",
              "  </style>\n",
              "\n",
              "      <script>\n",
              "        const buttonEl =\n",
              "          document.querySelector('#df-fb420de3-b2c1-4883-b0eb-9bd6a153742c button.colab-df-convert');\n",
              "        buttonEl.style.display =\n",
              "          google.colab.kernel.accessAllowed ? 'block' : 'none';\n",
              "\n",
              "        async function convertToInteractive(key) {\n",
              "          const element = document.querySelector('#df-fb420de3-b2c1-4883-b0eb-9bd6a153742c');\n",
              "          const dataTable =\n",
              "            await google.colab.kernel.invokeFunction('convertToInteractive',\n",
              "                                                     [key], {});\n",
              "          if (!dataTable) return;\n",
              "\n",
              "          const docLinkHtml = 'Like what you see? Visit the ' +\n",
              "            '<a target=\"_blank\" href=https://colab.research.google.com/notebooks/data_table.ipynb>data table notebook</a>'\n",
              "            + ' to learn more about interactive tables.';\n",
              "          element.innerHTML = '';\n",
              "          dataTable['output_type'] = 'display_data';\n",
              "          await google.colab.output.renderOutput(dataTable, element);\n",
              "          const docLink = document.createElement('div');\n",
              "          docLink.innerHTML = docLinkHtml;\n",
              "          element.appendChild(docLink);\n",
              "        }\n",
              "      </script>\n",
              "    </div>\n",
              "  </div>\n",
              "  "
            ]
          },
          "metadata": {},
          "execution_count": 147
        }
      ]
    },
    {
      "cell_type": "code",
      "source": [
        "df_data.DQM_DQDAYS.unique()"
      ],
      "metadata": {
        "id": "XnXBsIW-mj7V",
        "outputId": "b9afc4f1-e985-4df9-c857-478b2dfe01b7",
        "colab": {
          "base_uri": "https://localhost:8080/"
        }
      },
      "execution_count": 47,
      "outputs": [
        {
          "output_type": "execute_result",
          "data": {
            "text/plain": [
              "array([nan, '37', '67', ..., '3.00', ' 1,463.00 ', '36.00'], dtype=object)"
            ]
          },
          "metadata": {},
          "execution_count": 47
        }
      ]
    },
    {
      "cell_type": "markdown",
      "source": [
        "# Data Type convertions"
      ],
      "metadata": {
        "id": "-zYEMjjGxSsG"
      }
    },
    {
      "cell_type": "code",
      "source": [
        "df_data.dtypes"
      ],
      "metadata": {
        "id": "7BRTyZRixVJX",
        "outputId": "c76a5c94-8636-4fcc-9231-90b39e6351f4",
        "colab": {
          "base_uri": "https://localhost:8080/"
        }
      },
      "execution_count": 148,
      "outputs": [
        {
          "output_type": "execute_result",
          "data": {
            "text/plain": [
              "Data date     object\n",
              "LN_CNTRCT      int64\n",
              "Mapp          object\n",
              "DQM_DQDAYS    object\n",
              "dtype: object"
            ]
          },
          "metadata": {},
          "execution_count": 148
        }
      ]
    },
    {
      "cell_type": "code",
      "source": [
        "df_data[\"Data date\"] = pd.to_datetime(df_data[\"Data date\"])\n",
        "# df_data[\"Data date\"] = df_data[\"Data date\"].astype(str)\n",
        "# df_data[\"Data date\"] = pd.to_datetime(df_data[\"Data date\"].astype(str), format='%Y/%m/%d')\n",
        "# df_data[\"Data date\"]  = df_data[\"Data date\"] .dt.strftime('%m/%d/%Y')\n",
        "df_data.dtypes"
      ],
      "metadata": {
        "id": "sH9o_iW5x814",
        "outputId": "487bbaa4-1c4c-4cd2-e97f-be88b8750243",
        "colab": {
          "base_uri": "https://localhost:8080/"
        }
      },
      "execution_count": 154,
      "outputs": [
        {
          "output_type": "execute_result",
          "data": {
            "text/plain": [
              "Data date     datetime64[ns]\n",
              "LN_CNTRCT              int64\n",
              "Mapp                  object\n",
              "DQM_DQDAYS            object\n",
              "dtype: object"
            ]
          },
          "metadata": {},
          "execution_count": 154
        }
      ]
    },
    {
      "cell_type": "code",
      "source": [
        "df_data[\"DQM_DQDAYS\"] = pd.to_numeric(df_data[\"DQM_DQDAYS\"],errors='coerce')"
      ],
      "metadata": {
        "id": "L6iDEMWM-BHA"
      },
      "execution_count": 155,
      "outputs": []
    },
    {
      "cell_type": "code",
      "source": [
        "df_data.dtypes"
      ],
      "metadata": {
        "id": "_piSr6sK-lij",
        "outputId": "2e58aa09-0650-4c64-ce6d-d1fd3892aace",
        "colab": {
          "base_uri": "https://localhost:8080/"
        }
      },
      "execution_count": 156,
      "outputs": [
        {
          "output_type": "execute_result",
          "data": {
            "text/plain": [
              "Data date     datetime64[ns]\n",
              "LN_CNTRCT              int64\n",
              "Mapp                  object\n",
              "DQM_DQDAYS           float64\n",
              "dtype: object"
            ]
          },
          "metadata": {},
          "execution_count": 156
        }
      ]
    },
    {
      "cell_type": "markdown",
      "source": [
        "# Filtering Data "
      ],
      "metadata": {
        "id": "6LW10mQhyfgM"
      }
    },
    {
      "cell_type": "code",
      "source": [
        "df_data[\"Data date\"].unique()"
      ],
      "metadata": {
        "id": "oq64wy6ayh_t",
        "outputId": "e41a5756-4c74-4d84-cca2-24515b421782",
        "colab": {
          "base_uri": "https://localhost:8080/"
        }
      },
      "execution_count": 157,
      "outputs": [
        {
          "output_type": "execute_result",
          "data": {
            "text/plain": [
              "array(['2019-10-31T00:00:00.000000000', '2019-11-30T00:00:00.000000000',\n",
              "       '2019-12-31T00:00:00.000000000', '2020-01-31T00:00:00.000000000',\n",
              "       '2020-02-29T00:00:00.000000000', '2020-03-31T00:00:00.000000000',\n",
              "       '2020-04-30T00:00:00.000000000', '2020-05-31T00:00:00.000000000',\n",
              "       '2020-06-30T00:00:00.000000000', '2020-07-31T00:00:00.000000000',\n",
              "       '2020-08-31T00:00:00.000000000', '2020-09-30T00:00:00.000000000',\n",
              "       '2020-10-31T00:00:00.000000000', '2020-11-30T00:00:00.000000000',\n",
              "       '2020-12-31T00:00:00.000000000', '2021-01-31T00:00:00.000000000',\n",
              "       '2021-02-28T00:00:00.000000000', '2021-03-31T00:00:00.000000000',\n",
              "       '2021-04-30T00:00:00.000000000', '2021-05-31T00:00:00.000000000',\n",
              "       '2021-06-30T00:00:00.000000000', '2021-07-31T00:00:00.000000000',\n",
              "       '2021-08-31T00:00:00.000000000', '2021-09-30T00:00:00.000000000',\n",
              "       '2021-10-31T00:00:00.000000000'], dtype='datetime64[ns]')"
            ]
          },
          "metadata": {},
          "execution_count": 157
        }
      ]
    },
    {
      "cell_type": "code",
      "source": [
        "# Filter data between two dates\n",
        "df_data = df_data[(df_data[\"Data date\"] >= \"2019-10-30\") & (df_data[\"Data date\"] <= \"2021-10-31\")]\n",
        "df_data[\"Data date\"].unique()"
      ],
      "metadata": {
        "id": "JA6sQLYo2UKZ",
        "outputId": "f99e82e3-8514-470b-af4b-64ffa243a42f",
        "colab": {
          "base_uri": "https://localhost:8080/"
        }
      },
      "execution_count": 158,
      "outputs": [
        {
          "output_type": "execute_result",
          "data": {
            "text/plain": [
              "array(['2019-10-31T00:00:00.000000000', '2019-11-30T00:00:00.000000000',\n",
              "       '2019-12-31T00:00:00.000000000', '2020-01-31T00:00:00.000000000',\n",
              "       '2020-02-29T00:00:00.000000000', '2020-03-31T00:00:00.000000000',\n",
              "       '2020-04-30T00:00:00.000000000', '2020-05-31T00:00:00.000000000',\n",
              "       '2020-06-30T00:00:00.000000000', '2020-07-31T00:00:00.000000000',\n",
              "       '2020-08-31T00:00:00.000000000', '2020-09-30T00:00:00.000000000',\n",
              "       '2020-10-31T00:00:00.000000000', '2020-11-30T00:00:00.000000000',\n",
              "       '2020-12-31T00:00:00.000000000', '2021-01-31T00:00:00.000000000',\n",
              "       '2021-02-28T00:00:00.000000000', '2021-03-31T00:00:00.000000000',\n",
              "       '2021-04-30T00:00:00.000000000', '2021-05-31T00:00:00.000000000',\n",
              "       '2021-06-30T00:00:00.000000000', '2021-07-31T00:00:00.000000000',\n",
              "       '2021-08-31T00:00:00.000000000', '2021-09-30T00:00:00.000000000',\n",
              "       '2021-10-31T00:00:00.000000000'], dtype='datetime64[ns]')"
            ]
          },
          "metadata": {},
          "execution_count": 158
        }
      ]
    },
    {
      "cell_type": "code",
      "source": [
        "meses = len(df_data[\"Data date\"].unique())\n",
        "print(f\" meses a considerar en el cálculo = {meses}\")"
      ],
      "metadata": {
        "id": "wBiY4brP2y58",
        "outputId": "2453ede5-353c-45fe-b62b-e8a6cf297130",
        "colab": {
          "base_uri": "https://localhost:8080/"
        }
      },
      "execution_count": 159,
      "outputs": [
        {
          "output_type": "stream",
          "name": "stdout",
          "text": [
            " meses a considerar en el cálculo = 25\n"
          ]
        }
      ]
    },
    {
      "cell_type": "markdown",
      "source": [
        "# Measure Nan Values o Null Values"
      ],
      "metadata": {
        "id": "LqajQPWM74XL"
      }
    },
    {
      "cell_type": "code",
      "source": [
        "bool_series = pd.isnull(df_data['DQM_DQDAYS'])\n",
        "Nan_values = df_data[bool_series]\n",
        "print(Nan_values)\n",
        "Nan_values.shape"
      ],
      "metadata": {
        "id": "_eZ-zd858iNT",
        "outputId": "c40c937d-60f6-42ac-faf8-28f8dd503ded",
        "colab": {
          "base_uri": "https://localhost:8080/"
        }
      },
      "execution_count": 128,
      "outputs": [
        {
          "output_type": "stream",
          "name": "stdout",
          "text": [
            "       Data date  LN_CNTRCT   Mapp DQM_DQDAYS Mapping_Index\n",
            "80    2019-10-31    3300002  OTHER        NaN             3\n",
            "84    2020-02-29    3300002  OTHER        NaN             3\n",
            "85    2020-03-31    3300002  OTHER        NaN             3\n",
            "86    2020-04-30    3300002  OTHER        NaN             3\n",
            "93    2020-11-30    3300002  OTHER        NaN             3\n",
            "...          ...        ...    ...        ...           ...\n",
            "76359 2019-11-30    3600018  OTHER        NaN             3\n",
            "76360 2019-12-31    3600018  OTHER        NaN             3\n",
            "76361 2020-01-31    3600018  OTHER        NaN             3\n",
            "76362 2020-02-29    3600018  OTHER        NaN             3\n",
            "76363 2020-03-31    3600018  OTHER        NaN             3\n",
            "\n",
            "[11282 rows x 5 columns]\n"
          ]
        },
        {
          "output_type": "execute_result",
          "data": {
            "text/plain": [
              "(11282, 5)"
            ]
          },
          "metadata": {},
          "execution_count": 128
        }
      ]
    },
    {
      "cell_type": "code",
      "source": [
        "# all columns check for NaN values \n",
        "for column in df_data:\n",
        "  bool_series = pd.isnull(df_data[column].values)\n",
        "  Nan_values = df_data[bool_series]\n",
        "  print(Nan_values.shape)"
      ],
      "metadata": {
        "id": "vX-tpIdC76O6",
        "outputId": "682dd92d-c464-4c81-ba88-c7b6f0bc7baa",
        "colab": {
          "base_uri": "https://localhost:8080/"
        }
      },
      "execution_count": 126,
      "outputs": [
        {
          "output_type": "stream",
          "name": "stdout",
          "text": [
            "(0, 5)\n",
            "(0, 5)\n",
            "(0, 5)\n",
            "(11282, 5)\n",
            "(0, 5)\n"
          ]
        }
      ]
    },
    {
      "cell_type": "markdown",
      "source": [
        "# assign mapping to data"
      ],
      "metadata": {
        "id": "UYkYBdVHhW1x"
      }
    },
    {
      "cell_type": "code",
      "source": [
        "df_data['Mapp'].unique()"
      ],
      "metadata": {
        "id": "jj3PpmtMiMC8",
        "outputId": "f1afa05e-6db8-4368-bfed-07a5f9574ec8",
        "colab": {
          "base_uri": "https://localhost:8080/"
        }
      },
      "execution_count": 161,
      "outputs": [
        {
          "output_type": "execute_result",
          "data": {
            "text/plain": [
              "array(['OTHER PERSONAL', 'OTHER', 'HOME CONSTRUCTION/RENOVATION',\n",
              "       'HOUSE AND LAND PURCHASE'], dtype=object)"
            ]
          },
          "metadata": {},
          "execution_count": 161
        }
      ]
    },
    {
      "cell_type": "code",
      "source": [
        "# create a list of our conditions\n",
        "conditions = [\n",
        "    (df_data['Mapp'] == \"HOME CONSTRUCTION/RENOVATION\"),\n",
        "    (df_data['Mapp'] == \"HOUSE AND LAND PURCHASE\"),\n",
        "    (df_data['Mapp'] == \"OTHER\"),\n",
        "    (df_data['Mapp'] == \"OTHER PERSONAL\")\n",
        "    ]\n",
        "\n",
        "# create a list of the values we want to assign for each condition\n",
        "values = [\"1\", \"2\", \"3\", \"4\"]\n",
        "\n",
        "# create a new column and use np.select to assign values to it using our lists as arguments\n",
        "df_data['Mapping_Index'] = np.select(conditions, values)\n",
        "\n",
        "# display updated DataFrame\n",
        "df_data['Mapping_Index'].value_counts()"
      ],
      "metadata": {
        "id": "cQlHYHhbhVXc",
        "outputId": "e451b570-94fb-447c-f84b-faf4a9bd987f",
        "colab": {
          "base_uri": "https://localhost:8080/"
        }
      },
      "execution_count": 172,
      "outputs": [
        {
          "output_type": "execute_result",
          "data": {
            "text/plain": [
              "1    10200\n",
              "4     8444\n",
              "3     7572\n",
              "2     3589\n",
              "Name: Mapping_Index, dtype: int64"
            ]
          },
          "metadata": {},
          "execution_count": 172
        }
      ]
    },
    {
      "cell_type": "code",
      "source": [
        "# df_data[[\"Mapp\", \"Mapping_Index\"]].groupby(by=[\"Mapping_Index\"])\n",
        "pd.unique(df_data[[\"Mapp\", \"Mapping_Index\"]].values.ravel('K'))"
      ],
      "metadata": {
        "id": "QSDBBTCAogQQ",
        "outputId": "90acae81-a4ad-4d53-919c-13a14dfb6965",
        "colab": {
          "base_uri": "https://localhost:8080/"
        }
      },
      "execution_count": 122,
      "outputs": [
        {
          "output_type": "execute_result",
          "data": {
            "text/plain": [
              "array(['OTHER PERSONAL', 'OTHER', 'HOME CONSTRUCTION/RENOVATION',\n",
              "       'HOUSE AND LAND PURCHASE', '4', '3', '1', '2'], dtype=object)"
            ]
          },
          "metadata": {},
          "execution_count": 122
        }
      ]
    },
    {
      "cell_type": "markdown",
      "source": [
        "# Assign Stage by day past due "
      ],
      "metadata": {
        "id": "2jAtmgOnjxIi"
      }
    },
    {
      "cell_type": "code",
      "source": [
        "# create a list of our conditions\n",
        "column_condition = df_data[\"DQM_DQDAYS\"]\n",
        "conditions = [\n",
        "    (column_condition<= 30),\n",
        "    (column_condition.isna()),\n",
        "    (column_condition> 30) & (column_condition <= 90),\n",
        "    (column_condition > 90)\n",
        "    ]\n",
        "\n",
        "# create a list of the values we want to assign for each condition\n",
        "values = ['1', '1', '2', '3']\n",
        "\n",
        "# create a new column and use np.select to assign values to it using our lists as arguments\n",
        "df_data['stage'] = np.select(conditions, values)\n",
        "\n",
        "# display updated DataFrame\n",
        "df_data['stage'].value_counts()"
      ],
      "metadata": {
        "id": "luPPd6JKj3hb",
        "outputId": "6b81838f-104c-419d-87f7-def02f470ded",
        "colab": {
          "base_uri": "https://localhost:8080/"
        }
      },
      "execution_count": 173,
      "outputs": [
        {
          "output_type": "execute_result",
          "data": {
            "text/plain": [
              "1    23067\n",
              "3     5820\n",
              "2      918\n",
              "Name: stage, dtype: int64"
            ]
          },
          "metadata": {},
          "execution_count": 173
        }
      ]
    },
    {
      "cell_type": "markdown",
      "source": [
        "# Validate Duplicate Values"
      ],
      "metadata": {
        "id": "lAWra3Dt_vEw"
      }
    },
    {
      "cell_type": "code",
      "source": [
        "print(len(df_data.LN_CNTRCT))\n",
        "\n",
        "duplicateRowsDF = df_data[df_data.duplicated([\"Data date\", \"LN_CNTRCT\",\"Mapp\", 'DQM_DQDAYS'], keep=False)]\n",
        "print(duplicateRowsDF)\n",
        "df_data = df_data.drop_duplicates(keep='first')\n",
        "# duplicateRowsDF = clean_data[clean_data.duplicated(['fechacierre.x',\"CUNTID.x\",\"Rating\"], keep=False)] # just to reconfirm no duplicates values\n",
        "print(df_data.shape)\n"
      ],
      "metadata": {
        "id": "G7wupxj8_0EZ",
        "outputId": "1e1d793c-cd52-4b04-e056-1a5d2121a5e2",
        "colab": {
          "base_uri": "https://localhost:8080/"
        }
      },
      "execution_count": 175,
      "outputs": [
        {
          "output_type": "stream",
          "name": "stdout",
          "text": [
            "29805\n",
            "Empty DataFrame\n",
            "Columns: [Data date, LN_CNTRCT, Mapp, DQM_DQDAYS, stage, Mapping_Index]\n",
            "Index: []\n",
            "(29805, 6)\n"
          ]
        }
      ]
    },
    {
      "cell_type": "markdown",
      "source": [
        "# Filter special case operation"
      ],
      "metadata": {
        "id": "wCsx6VDJDpsh"
      }
    },
    {
      "cell_type": "code",
      "source": [
        "# LN Contract 3300013 is have riiregular behavior"
      ],
      "metadata": {
        "id": "9srTkR3PDtO9"
      },
      "execution_count": null,
      "outputs": []
    },
    {
      "cell_type": "code",
      "source": [
        "df_data.head()"
      ],
      "metadata": {
        "id": "xR5FT-11Ehwf",
        "outputId": "8ff1debe-bdbb-4810-d274-562de9bbcd6b",
        "colab": {
          "base_uri": "https://localhost:8080/",
          "height": 206
        }
      },
      "execution_count": 178,
      "outputs": [
        {
          "output_type": "execute_result",
          "data": {
            "text/plain": [
              "    Data date  LN_CNTRCT            Mapp  DQM_DQDAYS stage Mapping_Index\n",
              "42 2019-10-31    3300001  OTHER PERSONAL       645.0     3             4\n",
              "43 2019-11-30    3300001  OTHER PERSONAL       674.0     3             4\n",
              "44 2019-12-31    3300001  OTHER PERSONAL       706.0     3             4\n",
              "80 2019-10-31    3300002           OTHER         NaN     1             3\n",
              "81 2019-11-30    3300002           OTHER        24.0     1             3"
            ],
            "text/html": [
              "\n",
              "  <div id=\"df-114ce968-35a3-4fb9-b2e2-68f079319601\">\n",
              "    <div class=\"colab-df-container\">\n",
              "      <div>\n",
              "<style scoped>\n",
              "    .dataframe tbody tr th:only-of-type {\n",
              "        vertical-align: middle;\n",
              "    }\n",
              "\n",
              "    .dataframe tbody tr th {\n",
              "        vertical-align: top;\n",
              "    }\n",
              "\n",
              "    .dataframe thead th {\n",
              "        text-align: right;\n",
              "    }\n",
              "</style>\n",
              "<table border=\"1\" class=\"dataframe\">\n",
              "  <thead>\n",
              "    <tr style=\"text-align: right;\">\n",
              "      <th></th>\n",
              "      <th>Data date</th>\n",
              "      <th>LN_CNTRCT</th>\n",
              "      <th>Mapp</th>\n",
              "      <th>DQM_DQDAYS</th>\n",
              "      <th>stage</th>\n",
              "      <th>Mapping_Index</th>\n",
              "    </tr>\n",
              "  </thead>\n",
              "  <tbody>\n",
              "    <tr>\n",
              "      <th>42</th>\n",
              "      <td>2019-10-31</td>\n",
              "      <td>3300001</td>\n",
              "      <td>OTHER PERSONAL</td>\n",
              "      <td>645.0</td>\n",
              "      <td>3</td>\n",
              "      <td>4</td>\n",
              "    </tr>\n",
              "    <tr>\n",
              "      <th>43</th>\n",
              "      <td>2019-11-30</td>\n",
              "      <td>3300001</td>\n",
              "      <td>OTHER PERSONAL</td>\n",
              "      <td>674.0</td>\n",
              "      <td>3</td>\n",
              "      <td>4</td>\n",
              "    </tr>\n",
              "    <tr>\n",
              "      <th>44</th>\n",
              "      <td>2019-12-31</td>\n",
              "      <td>3300001</td>\n",
              "      <td>OTHER PERSONAL</td>\n",
              "      <td>706.0</td>\n",
              "      <td>3</td>\n",
              "      <td>4</td>\n",
              "    </tr>\n",
              "    <tr>\n",
              "      <th>80</th>\n",
              "      <td>2019-10-31</td>\n",
              "      <td>3300002</td>\n",
              "      <td>OTHER</td>\n",
              "      <td>NaN</td>\n",
              "      <td>1</td>\n",
              "      <td>3</td>\n",
              "    </tr>\n",
              "    <tr>\n",
              "      <th>81</th>\n",
              "      <td>2019-11-30</td>\n",
              "      <td>3300002</td>\n",
              "      <td>OTHER</td>\n",
              "      <td>24.0</td>\n",
              "      <td>1</td>\n",
              "      <td>3</td>\n",
              "    </tr>\n",
              "  </tbody>\n",
              "</table>\n",
              "</div>\n",
              "      <button class=\"colab-df-convert\" onclick=\"convertToInteractive('df-114ce968-35a3-4fb9-b2e2-68f079319601')\"\n",
              "              title=\"Convert this dataframe to an interactive table.\"\n",
              "              style=\"display:none;\">\n",
              "        \n",
              "  <svg xmlns=\"http://www.w3.org/2000/svg\" height=\"24px\"viewBox=\"0 0 24 24\"\n",
              "       width=\"24px\">\n",
              "    <path d=\"M0 0h24v24H0V0z\" fill=\"none\"/>\n",
              "    <path d=\"M18.56 5.44l.94 2.06.94-2.06 2.06-.94-2.06-.94-.94-2.06-.94 2.06-2.06.94zm-11 1L8.5 8.5l.94-2.06 2.06-.94-2.06-.94L8.5 2.5l-.94 2.06-2.06.94zm10 10l.94 2.06.94-2.06 2.06-.94-2.06-.94-.94-2.06-.94 2.06-2.06.94z\"/><path d=\"M17.41 7.96l-1.37-1.37c-.4-.4-.92-.59-1.43-.59-.52 0-1.04.2-1.43.59L10.3 9.45l-7.72 7.72c-.78.78-.78 2.05 0 2.83L4 21.41c.39.39.9.59 1.41.59.51 0 1.02-.2 1.41-.59l7.78-7.78 2.81-2.81c.8-.78.8-2.07 0-2.86zM5.41 20L4 18.59l7.72-7.72 1.47 1.35L5.41 20z\"/>\n",
              "  </svg>\n",
              "      </button>\n",
              "      \n",
              "  <style>\n",
              "    .colab-df-container {\n",
              "      display:flex;\n",
              "      flex-wrap:wrap;\n",
              "      gap: 12px;\n",
              "    }\n",
              "\n",
              "    .colab-df-convert {\n",
              "      background-color: #E8F0FE;\n",
              "      border: none;\n",
              "      border-radius: 50%;\n",
              "      cursor: pointer;\n",
              "      display: none;\n",
              "      fill: #1967D2;\n",
              "      height: 32px;\n",
              "      padding: 0 0 0 0;\n",
              "      width: 32px;\n",
              "    }\n",
              "\n",
              "    .colab-df-convert:hover {\n",
              "      background-color: #E2EBFA;\n",
              "      box-shadow: 0px 1px 2px rgba(60, 64, 67, 0.3), 0px 1px 3px 1px rgba(60, 64, 67, 0.15);\n",
              "      fill: #174EA6;\n",
              "    }\n",
              "\n",
              "    [theme=dark] .colab-df-convert {\n",
              "      background-color: #3B4455;\n",
              "      fill: #D2E3FC;\n",
              "    }\n",
              "\n",
              "    [theme=dark] .colab-df-convert:hover {\n",
              "      background-color: #434B5C;\n",
              "      box-shadow: 0px 1px 3px 1px rgba(0, 0, 0, 0.15);\n",
              "      filter: drop-shadow(0px 1px 2px rgba(0, 0, 0, 0.3));\n",
              "      fill: #FFFFFF;\n",
              "    }\n",
              "  </style>\n",
              "\n",
              "      <script>\n",
              "        const buttonEl =\n",
              "          document.querySelector('#df-114ce968-35a3-4fb9-b2e2-68f079319601 button.colab-df-convert');\n",
              "        buttonEl.style.display =\n",
              "          google.colab.kernel.accessAllowed ? 'block' : 'none';\n",
              "\n",
              "        async function convertToInteractive(key) {\n",
              "          const element = document.querySelector('#df-114ce968-35a3-4fb9-b2e2-68f079319601');\n",
              "          const dataTable =\n",
              "            await google.colab.kernel.invokeFunction('convertToInteractive',\n",
              "                                                     [key], {});\n",
              "          if (!dataTable) return;\n",
              "\n",
              "          const docLinkHtml = 'Like what you see? Visit the ' +\n",
              "            '<a target=\"_blank\" href=https://colab.research.google.com/notebooks/data_table.ipynb>data table notebook</a>'\n",
              "            + ' to learn more about interactive tables.';\n",
              "          element.innerHTML = '';\n",
              "          dataTable['output_type'] = 'display_data';\n",
              "          await google.colab.output.renderOutput(dataTable, element);\n",
              "          const docLink = document.createElement('div');\n",
              "          docLink.innerHTML = docLinkHtml;\n",
              "          element.appendChild(docLink);\n",
              "        }\n",
              "      </script>\n",
              "    </div>\n",
              "  </div>\n",
              "  "
            ]
          },
          "metadata": {},
          "execution_count": 178
        }
      ]
    },
    {
      "cell_type": "code",
      "source": [
        "prueba = df_data.query(\"LN_CNTRCT == '3300013'\")\n",
        "prueba"
      ],
      "metadata": {
        "id": "1p-AT8ZFERiz",
        "outputId": "94ae735b-2846-4aa4-aa5b-adb8e4ae4a84",
        "colab": {
          "base_uri": "https://localhost:8080/",
          "height": 49
        }
      },
      "execution_count": 185,
      "outputs": [
        {
          "output_type": "execute_result",
          "data": {
            "text/plain": [
              "Empty DataFrame\n",
              "Columns: [Data date, LN_CNTRCT, Mapp, DQM_DQDAYS, stage, Mapping_Index]\n",
              "Index: []"
            ],
            "text/html": [
              "\n",
              "  <div id=\"df-3663ef2e-2996-4e12-88af-d65b71e5a53c\">\n",
              "    <div class=\"colab-df-container\">\n",
              "      <div>\n",
              "<style scoped>\n",
              "    .dataframe tbody tr th:only-of-type {\n",
              "        vertical-align: middle;\n",
              "    }\n",
              "\n",
              "    .dataframe tbody tr th {\n",
              "        vertical-align: top;\n",
              "    }\n",
              "\n",
              "    .dataframe thead th {\n",
              "        text-align: right;\n",
              "    }\n",
              "</style>\n",
              "<table border=\"1\" class=\"dataframe\">\n",
              "  <thead>\n",
              "    <tr style=\"text-align: right;\">\n",
              "      <th></th>\n",
              "      <th>Data date</th>\n",
              "      <th>LN_CNTRCT</th>\n",
              "      <th>Mapp</th>\n",
              "      <th>DQM_DQDAYS</th>\n",
              "      <th>stage</th>\n",
              "      <th>Mapping_Index</th>\n",
              "    </tr>\n",
              "  </thead>\n",
              "  <tbody>\n",
              "  </tbody>\n",
              "</table>\n",
              "</div>\n",
              "      <button class=\"colab-df-convert\" onclick=\"convertToInteractive('df-3663ef2e-2996-4e12-88af-d65b71e5a53c')\"\n",
              "              title=\"Convert this dataframe to an interactive table.\"\n",
              "              style=\"display:none;\">\n",
              "        \n",
              "  <svg xmlns=\"http://www.w3.org/2000/svg\" height=\"24px\"viewBox=\"0 0 24 24\"\n",
              "       width=\"24px\">\n",
              "    <path d=\"M0 0h24v24H0V0z\" fill=\"none\"/>\n",
              "    <path d=\"M18.56 5.44l.94 2.06.94-2.06 2.06-.94-2.06-.94-.94-2.06-.94 2.06-2.06.94zm-11 1L8.5 8.5l.94-2.06 2.06-.94-2.06-.94L8.5 2.5l-.94 2.06-2.06.94zm10 10l.94 2.06.94-2.06 2.06-.94-2.06-.94-.94-2.06-.94 2.06-2.06.94z\"/><path d=\"M17.41 7.96l-1.37-1.37c-.4-.4-.92-.59-1.43-.59-.52 0-1.04.2-1.43.59L10.3 9.45l-7.72 7.72c-.78.78-.78 2.05 0 2.83L4 21.41c.39.39.9.59 1.41.59.51 0 1.02-.2 1.41-.59l7.78-7.78 2.81-2.81c.8-.78.8-2.07 0-2.86zM5.41 20L4 18.59l7.72-7.72 1.47 1.35L5.41 20z\"/>\n",
              "  </svg>\n",
              "      </button>\n",
              "      \n",
              "  <style>\n",
              "    .colab-df-container {\n",
              "      display:flex;\n",
              "      flex-wrap:wrap;\n",
              "      gap: 12px;\n",
              "    }\n",
              "\n",
              "    .colab-df-convert {\n",
              "      background-color: #E8F0FE;\n",
              "      border: none;\n",
              "      border-radius: 50%;\n",
              "      cursor: pointer;\n",
              "      display: none;\n",
              "      fill: #1967D2;\n",
              "      height: 32px;\n",
              "      padding: 0 0 0 0;\n",
              "      width: 32px;\n",
              "    }\n",
              "\n",
              "    .colab-df-convert:hover {\n",
              "      background-color: #E2EBFA;\n",
              "      box-shadow: 0px 1px 2px rgba(60, 64, 67, 0.3), 0px 1px 3px 1px rgba(60, 64, 67, 0.15);\n",
              "      fill: #174EA6;\n",
              "    }\n",
              "\n",
              "    [theme=dark] .colab-df-convert {\n",
              "      background-color: #3B4455;\n",
              "      fill: #D2E3FC;\n",
              "    }\n",
              "\n",
              "    [theme=dark] .colab-df-convert:hover {\n",
              "      background-color: #434B5C;\n",
              "      box-shadow: 0px 1px 3px 1px rgba(0, 0, 0, 0.15);\n",
              "      filter: drop-shadow(0px 1px 2px rgba(0, 0, 0, 0.3));\n",
              "      fill: #FFFFFF;\n",
              "    }\n",
              "  </style>\n",
              "\n",
              "      <script>\n",
              "        const buttonEl =\n",
              "          document.querySelector('#df-3663ef2e-2996-4e12-88af-d65b71e5a53c button.colab-df-convert');\n",
              "        buttonEl.style.display =\n",
              "          google.colab.kernel.accessAllowed ? 'block' : 'none';\n",
              "\n",
              "        async function convertToInteractive(key) {\n",
              "          const element = document.querySelector('#df-3663ef2e-2996-4e12-88af-d65b71e5a53c');\n",
              "          const dataTable =\n",
              "            await google.colab.kernel.invokeFunction('convertToInteractive',\n",
              "                                                     [key], {});\n",
              "          if (!dataTable) return;\n",
              "\n",
              "          const docLinkHtml = 'Like what you see? Visit the ' +\n",
              "            '<a target=\"_blank\" href=https://colab.research.google.com/notebooks/data_table.ipynb>data table notebook</a>'\n",
              "            + ' to learn more about interactive tables.';\n",
              "          element.innerHTML = '';\n",
              "          dataTable['output_type'] = 'display_data';\n",
              "          await google.colab.output.renderOutput(dataTable, element);\n",
              "          const docLink = document.createElement('div');\n",
              "          docLink.innerHTML = docLinkHtml;\n",
              "          element.appendChild(docLink);\n",
              "        }\n",
              "      </script>\n",
              "    </div>\n",
              "  </div>\n",
              "  "
            ]
          },
          "metadata": {},
          "execution_count": 185
        }
      ]
    },
    {
      "cell_type": "code",
      "source": [
        "df_data = df_data[(df_data[\"LN_CNTRCT\"] != \"3300013\")]\n",
        "df_data.shape"
      ],
      "metadata": {
        "id": "1FSD4X2SD3Wn",
        "outputId": "c1a0c423-375d-4594-881a-af9f4546e2bc",
        "colab": {
          "base_uri": "https://localhost:8080/"
        }
      },
      "execution_count": 176,
      "outputs": [
        {
          "output_type": "execute_result",
          "data": {
            "text/plain": [
              "(29805, 6)"
            ]
          },
          "metadata": {},
          "execution_count": 176
        }
      ]
    }
  ],
  "metadata": {
    "colab": {
      "name": "scratchpad",
      "provenance": [],
      "toc_visible": true,
      "include_colab_link": true
    },
    "kernelspec": {
      "display_name": "Python 3",
      "name": "python3"
    }
  },
  "nbformat": 4,
  "nbformat_minor": 0
}